{
 "cells": [
  {
   "cell_type": "markdown",
   "id": "997b754d-f0d9-4684-984b-fccbcd20f69a",
   "metadata": {},
   "source": [
    "# Importing the necessary packages and modules"
   ]
  },
  {
   "cell_type": "code",
   "execution_count": 1,
   "id": "1559a3f7-914b-479a-b941-dcbaa7afde85",
   "metadata": {},
   "outputs": [],
   "source": [
    "import matplotlib.pyplot as plt\n",
    "import seaborn as sns\n",
    "import pandas as pd\n",
    "import os\n",
    "import extract_dataframe\n",
    "import clean_tweets_dataframe"
   ]
  },
  {
   "cell_type": "markdown",
   "id": "907cd476-2a02-4697-97de-566b28260b93",
   "metadata": {},
   "source": [
    "# Data Acquisition"
   ]
  },
  {
   "cell_type": "markdown",
   "id": "72a9671a-a301-4d54-9ed7-d35f91e24f91",
   "metadata": {},
   "source": [
    "We are going to use the downloaded data found a Documents/Tweet_Data_Analysis/Twitter-Data-Analysis-10Academy-Training/data/Economic_Twitter_Data.json. The data is going to be loaded into a dataframe using the exract_dataframe module"
   ]
  },
  {
   "cell_type": "code",
   "execution_count": 2,
   "id": "de180056-dc62-4a04-b69b-2c40adc8ff2f",
   "metadata": {
    "tags": []
   },
   "outputs": [],
   "source": [
    " tweets_len, tweet_list = extract_dataframe.read_json(\"data/Economic_Twitter_Data.json\")"
   ]
  },
  {
   "cell_type": "code",
   "execution_count": 3,
   "id": "77da2405-cf62-4378-ac07-8fd730cf5015",
   "metadata": {},
   "outputs": [
    {
     "data": {
      "text/plain": [
       "24625"
      ]
     },
     "execution_count": 3,
     "metadata": {},
     "output_type": "execute_result"
    }
   ],
   "source": [
    "tweets_len"
   ]
  },
  {
   "cell_type": "code",
   "execution_count": 11,
   "id": "b0f4f160-072a-4836-9769-c97d424282da",
   "metadata": {},
   "outputs": [
    {
     "name": "stdout",
     "output_type": "stream",
     "text": [
      "File Successfully Saved.!!!\n"
     ]
    }
   ],
   "source": [
    "tweet = extract_dataframe.TweetDfExtractor(tweet_list)\n",
    "tweet_df = tweet.get_tweet_df(True)  #This creates the df and also saves it to a csv"
   ]
  },
  {
   "cell_type": "code",
   "execution_count": 12,
   "id": "01e03890-3b0a-4390-9c3b-882fe4a2ea6a",
   "metadata": {},
   "outputs": [
    {
     "data": {
      "text/html": [
       "<div>\n",
       "<style scoped>\n",
       "    .dataframe tbody tr th:only-of-type {\n",
       "        vertical-align: middle;\n",
       "    }\n",
       "\n",
       "    .dataframe tbody tr th {\n",
       "        vertical-align: top;\n",
       "    }\n",
       "\n",
       "    .dataframe thead th {\n",
       "        text-align: right;\n",
       "    }\n",
       "</style>\n",
       "<table border=\"1\" class=\"dataframe\">\n",
       "  <thead>\n",
       "    <tr style=\"text-align: right;\">\n",
       "      <th></th>\n",
       "      <th>created_at</th>\n",
       "      <th>source</th>\n",
       "      <th>original_text</th>\n",
       "      <th>polarity</th>\n",
       "      <th>subjectivity</th>\n",
       "      <th>lang</th>\n",
       "      <th>favorite_count</th>\n",
       "      <th>retweet_count</th>\n",
       "      <th>original_author</th>\n",
       "      <th>followers_count</th>\n",
       "      <th>friends_count</th>\n",
       "      <th>possibly_sensitive</th>\n",
       "      <th>hashtags</th>\n",
       "      <th>user_mentions</th>\n",
       "      <th>place</th>\n",
       "    </tr>\n",
       "  </thead>\n",
       "  <tbody>\n",
       "    <tr>\n",
       "      <th>0</th>\n",
       "      <td>Fri Apr 22 22:20:18 +0000 2022</td>\n",
       "      <td>&lt;a href=\"http://twitter.com/download/android\" ...</td>\n",
       "      <td>RT @nikitheblogger: Irre: Annalena Baerbock sa...</td>\n",
       "      <td>0.0</td>\n",
       "      <td>0.0</td>\n",
       "      <td>de</td>\n",
       "      <td>113</td>\n",
       "      <td>355</td>\n",
       "      <td>McMc74078966</td>\n",
       "      <td>3</td>\n",
       "      <td>12</td>\n",
       "      <td>None</td>\n",
       "      <td>[]</td>\n",
       "      <td>[{'screen_name': 'nikitheblogger', 'name': 'Ne...</td>\n",
       "      <td>None</td>\n",
       "    </tr>\n",
       "    <tr>\n",
       "      <th>1</th>\n",
       "      <td>Fri Apr 22 22:19:16 +0000 2022</td>\n",
       "      <td>&lt;a href=\"http://twitter.com/download/android\" ...</td>\n",
       "      <td>RT @sagt_mit: Merkel schaffte es in 1 Jahr 1 M...</td>\n",
       "      <td>0.0</td>\n",
       "      <td>0.0</td>\n",
       "      <td>de</td>\n",
       "      <td>113</td>\n",
       "      <td>505</td>\n",
       "      <td>McMc74078966</td>\n",
       "      <td>3</td>\n",
       "      <td>12</td>\n",
       "      <td>None</td>\n",
       "      <td>[]</td>\n",
       "      <td>[{'screen_name': 'sagt_mit', 'name': 'Sie sagt...</td>\n",
       "      <td>None</td>\n",
       "    </tr>\n",
       "    <tr>\n",
       "      <th>2</th>\n",
       "      <td>Fri Apr 22 22:17:28 +0000 2022</td>\n",
       "      <td>&lt;a href=\"http://twitter.com/download/android\" ...</td>\n",
       "      <td>RT @Kryptonoun: @WRi007 Pharma in Lebensmittel...</td>\n",
       "      <td>0.0</td>\n",
       "      <td>0.0</td>\n",
       "      <td>de</td>\n",
       "      <td>113</td>\n",
       "      <td>4</td>\n",
       "      <td>McMc74078966</td>\n",
       "      <td>3</td>\n",
       "      <td>12</td>\n",
       "      <td>None</td>\n",
       "      <td>[]</td>\n",
       "      <td>[{'screen_name': 'Kryptonoun', 'name': 'Krypto...</td>\n",
       "      <td>None</td>\n",
       "    </tr>\n",
       "    <tr>\n",
       "      <th>3</th>\n",
       "      <td>Fri Apr 22 22:17:20 +0000 2022</td>\n",
       "      <td>&lt;a href=\"http://twitter.com/download/android\" ...</td>\n",
       "      <td>RT @WRi007: Die #Deutschen sind ein braves Vol...</td>\n",
       "      <td>0.0</td>\n",
       "      <td>0.0</td>\n",
       "      <td>de</td>\n",
       "      <td>113</td>\n",
       "      <td>332</td>\n",
       "      <td>McMc74078966</td>\n",
       "      <td>3</td>\n",
       "      <td>12</td>\n",
       "      <td>None</td>\n",
       "      <td>[{'text': 'Deutschen', 'indices': [16, 26]}, {...</td>\n",
       "      <td>[{'screen_name': 'WRi007', 'name': 'Wolfgang B...</td>\n",
       "      <td>None</td>\n",
       "    </tr>\n",
       "    <tr>\n",
       "      <th>4</th>\n",
       "      <td>Fri Apr 22 22:13:15 +0000 2022</td>\n",
       "      <td>&lt;a href=\"http://twitter.com/download/android\" ...</td>\n",
       "      <td>RT @RolandTichy: Baerbock verkündet mal so neb...</td>\n",
       "      <td>0.0</td>\n",
       "      <td>0.0</td>\n",
       "      <td>de</td>\n",
       "      <td>113</td>\n",
       "      <td>386</td>\n",
       "      <td>McMc74078966</td>\n",
       "      <td>3</td>\n",
       "      <td>12</td>\n",
       "      <td>None</td>\n",
       "      <td>[]</td>\n",
       "      <td>[{'screen_name': 'RolandTichy', 'name': 'Rolan...</td>\n",
       "      <td>None</td>\n",
       "    </tr>\n",
       "  </tbody>\n",
       "</table>\n",
       "</div>"
      ],
      "text/plain": [
       "                       created_at  \\\n",
       "0  Fri Apr 22 22:20:18 +0000 2022   \n",
       "1  Fri Apr 22 22:19:16 +0000 2022   \n",
       "2  Fri Apr 22 22:17:28 +0000 2022   \n",
       "3  Fri Apr 22 22:17:20 +0000 2022   \n",
       "4  Fri Apr 22 22:13:15 +0000 2022   \n",
       "\n",
       "                                              source  \\\n",
       "0  <a href=\"http://twitter.com/download/android\" ...   \n",
       "1  <a href=\"http://twitter.com/download/android\" ...   \n",
       "2  <a href=\"http://twitter.com/download/android\" ...   \n",
       "3  <a href=\"http://twitter.com/download/android\" ...   \n",
       "4  <a href=\"http://twitter.com/download/android\" ...   \n",
       "\n",
       "                                       original_text  polarity  subjectivity  \\\n",
       "0  RT @nikitheblogger: Irre: Annalena Baerbock sa...       0.0           0.0   \n",
       "1  RT @sagt_mit: Merkel schaffte es in 1 Jahr 1 M...       0.0           0.0   \n",
       "2  RT @Kryptonoun: @WRi007 Pharma in Lebensmittel...       0.0           0.0   \n",
       "3  RT @WRi007: Die #Deutschen sind ein braves Vol...       0.0           0.0   \n",
       "4  RT @RolandTichy: Baerbock verkündet mal so neb...       0.0           0.0   \n",
       "\n",
       "  lang  favorite_count  retweet_count original_author  followers_count  \\\n",
       "0   de             113            355    McMc74078966                3   \n",
       "1   de             113            505    McMc74078966                3   \n",
       "2   de             113              4    McMc74078966                3   \n",
       "3   de             113            332    McMc74078966                3   \n",
       "4   de             113            386    McMc74078966                3   \n",
       "\n",
       "   friends_count possibly_sensitive  \\\n",
       "0             12               None   \n",
       "1             12               None   \n",
       "2             12               None   \n",
       "3             12               None   \n",
       "4             12               None   \n",
       "\n",
       "                                            hashtags  \\\n",
       "0                                                 []   \n",
       "1                                                 []   \n",
       "2                                                 []   \n",
       "3  [{'text': 'Deutschen', 'indices': [16, 26]}, {...   \n",
       "4                                                 []   \n",
       "\n",
       "                                       user_mentions place  \n",
       "0  [{'screen_name': 'nikitheblogger', 'name': 'Ne...  None  \n",
       "1  [{'screen_name': 'sagt_mit', 'name': 'Sie sagt...  None  \n",
       "2  [{'screen_name': 'Kryptonoun', 'name': 'Krypto...  None  \n",
       "3  [{'screen_name': 'WRi007', 'name': 'Wolfgang B...  None  \n",
       "4  [{'screen_name': 'RolandTichy', 'name': 'Rolan...  None  "
      ]
     },
     "execution_count": 12,
     "metadata": {},
     "output_type": "execute_result"
    }
   ],
   "source": [
    "#confirm the loaded data\n",
    "tweet_df.head()"
   ]
  },
  {
   "cell_type": "markdown",
   "id": "338827aa-4590-494f-8e1f-7b5033f74d13",
   "metadata": {},
   "source": [
    "# Data Preprocessing"
   ]
  },
  {
   "cell_type": "markdown",
   "id": "751564bb-9946-4d8c-b347-0926148fd5d9",
   "metadata": {},
   "source": [
    "Data preprocessing will involve a series of steps to prepare the data for modelling. \n",
    "We will first clean the dataframe created above using the Clean_Dataframe class from clean_dataframe.py"
   ]
  },
  {
   "cell_type": "code",
   "execution_count": 13,
   "id": "19b41905-9827-4063-bb4e-cdd2e32c3d2c",
   "metadata": {},
   "outputs": [
    {
     "name": "stdout",
     "output_type": "stream",
     "text": [
      "Automation in Action...!!!\n"
     ]
    }
   ],
   "source": [
    "tweetsDf_cleaner = clean_tweets_dataframe.Clean_Tweets(tweet_df)"
   ]
  },
  {
   "cell_type": "markdown",
   "id": "3a2d771b-5903-4d0b-a3df-638f8f027d5b",
   "metadata": {},
   "source": [
    "#### Drop unwanted Columns"
   ]
  },
  {
   "cell_type": "code",
   "execution_count": 14,
   "id": "6827d71e-4598-4b37-bf60-cb1a22bbdea9",
   "metadata": {},
   "outputs": [],
   "source": [
    "tweets_df=tweetsDf_cleaner.drop_unwanted_column(tweetsDf_cleaner.df)"
   ]
  },
  {
   "cell_type": "markdown",
   "id": "f73f73c5-b7d8-431a-b37d-d762bcc2c84f",
   "metadata": {},
   "source": [
    "#### Drop Duplicates"
   ]
  },
  {
   "cell_type": "code",
   "execution_count": 20,
   "id": "5cceb80e-4429-4a80-9629-0b6a92e3dc0e",
   "metadata": {},
   "outputs": [],
   "source": [
    "tweets_df_no_duplicates = tweetsDf_cleaner.drop_duplicate(tweets_df)"
   ]
  },
  {
   "cell_type": "markdown",
   "id": "c2df85d0-dd4a-426f-a85f-9b5c99f18d2a",
   "metadata": {},
   "source": [
    "#### Convert columns in the dataframe to the correct data types"
   ]
  },
  {
   "cell_type": "code",
   "execution_count": 23,
   "id": "2b3d6e74-e550-4337-acdd-166a527c5eaa",
   "metadata": {},
   "outputs": [],
   "source": [
    "#convert the dates to datetime\n",
    "clean_df = tweetsDf_cleaner.convert_to_datetime(tweets_df_no_duplicates) "
   ]
  },
  {
   "cell_type": "code",
   "execution_count": 24,
   "id": "f4090881-ce10-4178-b8ae-c9500006de4d",
   "metadata": {},
   "outputs": [],
   "source": [
    "#convert the numeric columns to number\n",
    "clean_df = tweetsDf_cleaner.convert_to_numbers(clean_df)  "
   ]
  },
  {
   "cell_type": "markdown",
   "id": "536299e8-f6a3-4622-8b97-2975df29f834",
   "metadata": {},
   "source": [
    "### Remove Non-English tweets"
   ]
  },
  {
   "cell_type": "code",
   "execution_count": 25,
   "id": "c49a09c4-4e2b-40ff-a27b-d76136e78793",
   "metadata": {},
   "outputs": [],
   "source": [
    "clean_eng_df = tweetsDf_cleaner.remove_non_english_tweets(clean_df)"
   ]
  },
  {
   "cell_type": "code",
   "execution_count": 26,
   "id": "8c3984b5-9e10-401f-8c40-303b3cde14de",
   "metadata": {},
   "outputs": [
    {
     "data": {
      "text/html": [
       "<div>\n",
       "<style scoped>\n",
       "    .dataframe tbody tr th:only-of-type {\n",
       "        vertical-align: middle;\n",
       "    }\n",
       "\n",
       "    .dataframe tbody tr th {\n",
       "        vertical-align: top;\n",
       "    }\n",
       "\n",
       "    .dataframe thead th {\n",
       "        text-align: right;\n",
       "    }\n",
       "</style>\n",
       "<table border=\"1\" class=\"dataframe\">\n",
       "  <thead>\n",
       "    <tr style=\"text-align: right;\">\n",
       "      <th></th>\n",
       "      <th>created_at</th>\n",
       "      <th>source</th>\n",
       "      <th>original_text</th>\n",
       "      <th>polarity</th>\n",
       "      <th>subjectivity</th>\n",
       "      <th>lang</th>\n",
       "      <th>favorite_count</th>\n",
       "      <th>retweet_count</th>\n",
       "      <th>original_author</th>\n",
       "      <th>followers_count</th>\n",
       "      <th>friends_count</th>\n",
       "      <th>possibly_sensitive</th>\n",
       "      <th>hashtags</th>\n",
       "      <th>user_mentions</th>\n",
       "      <th>place</th>\n",
       "    </tr>\n",
       "  </thead>\n",
       "  <tbody>\n",
       "    <tr>\n",
       "      <th>38</th>\n",
       "      <td>2022-04-22 22:17:05</td>\n",
       "      <td>&lt;a href=\"http://twitter.com/download/android\" ...</td>\n",
       "      <td>RT @NorthstarCharts: The 10-year yield is tell...</td>\n",
       "      <td>0.16</td>\n",
       "      <td>0.540000</td>\n",
       "      <td>en</td>\n",
       "      <td>12179</td>\n",
       "      <td>43</td>\n",
       "      <td>davideiacovozzi</td>\n",
       "      <td>18</td>\n",
       "      <td>55</td>\n",
       "      <td>None</td>\n",
       "      <td>[{'text': 'gold', 'indices': [116, 121]}, {'te...</td>\n",
       "      <td>[{'screen_name': 'NorthstarCharts', 'name': 'N...</td>\n",
       "      <td>None</td>\n",
       "    </tr>\n",
       "    <tr>\n",
       "      <th>39</th>\n",
       "      <td>2022-04-22 13:44:53</td>\n",
       "      <td>&lt;a href=\"http://twitter.com/download/android\" ...</td>\n",
       "      <td>RT @MichaelAArouet: German 10y mortgage rate w...</td>\n",
       "      <td>0.15</td>\n",
       "      <td>0.175000</td>\n",
       "      <td>en</td>\n",
       "      <td>12179</td>\n",
       "      <td>32</td>\n",
       "      <td>davideiacovozzi</td>\n",
       "      <td>18</td>\n",
       "      <td>55</td>\n",
       "      <td>None</td>\n",
       "      <td>[]</td>\n",
       "      <td>[{'screen_name': 'MichaelAArouet', 'name': 'Mi...</td>\n",
       "      <td>None</td>\n",
       "    </tr>\n",
       "    <tr>\n",
       "      <th>41</th>\n",
       "      <td>2022-04-22 06:10:34</td>\n",
       "      <td>&lt;a href=\"http://twitter.com/download/android\" ...</td>\n",
       "      <td>RT @goldseek: When? https://t.co/kO2FfHKaZg</td>\n",
       "      <td>0.00</td>\n",
       "      <td>0.000000</td>\n",
       "      <td>en</td>\n",
       "      <td>12179</td>\n",
       "      <td>26</td>\n",
       "      <td>davideiacovozzi</td>\n",
       "      <td>18</td>\n",
       "      <td>55</td>\n",
       "      <td>None</td>\n",
       "      <td>[]</td>\n",
       "      <td>[{'screen_name': 'goldseek', 'name': 'Peter ⚒ ...</td>\n",
       "      <td>None</td>\n",
       "    </tr>\n",
       "    <tr>\n",
       "      <th>42</th>\n",
       "      <td>2022-04-21 17:22:09</td>\n",
       "      <td>&lt;a href=\"http://twitter.com/download/android\" ...</td>\n",
       "      <td>RT @charliebilello: The 30-year mortgage rate ...</td>\n",
       "      <td>0.00</td>\n",
       "      <td>0.183333</td>\n",
       "      <td>en</td>\n",
       "      <td>12179</td>\n",
       "      <td>213</td>\n",
       "      <td>davideiacovozzi</td>\n",
       "      <td>18</td>\n",
       "      <td>55</td>\n",
       "      <td>None</td>\n",
       "      <td>[]</td>\n",
       "      <td>[{'screen_name': 'charliebilello', 'name': 'Ch...</td>\n",
       "      <td>None</td>\n",
       "    </tr>\n",
       "    <tr>\n",
       "      <th>43</th>\n",
       "      <td>2022-04-21 10:32:26</td>\n",
       "      <td>&lt;a href=\"http://twitter.com/download/android\" ...</td>\n",
       "      <td>RT @biancoresearch: Rates rise until something...</td>\n",
       "      <td>-0.40</td>\n",
       "      <td>0.400000</td>\n",
       "      <td>en</td>\n",
       "      <td>12179</td>\n",
       "      <td>417</td>\n",
       "      <td>davideiacovozzi</td>\n",
       "      <td>18</td>\n",
       "      <td>55</td>\n",
       "      <td>None</td>\n",
       "      <td>[]</td>\n",
       "      <td>[{'screen_name': 'biancoresearch', 'name': 'Ji...</td>\n",
       "      <td>None</td>\n",
       "    </tr>\n",
       "  </tbody>\n",
       "</table>\n",
       "</div>"
      ],
      "text/plain": [
       "            created_at                                             source  \\\n",
       "38 2022-04-22 22:17:05  <a href=\"http://twitter.com/download/android\" ...   \n",
       "39 2022-04-22 13:44:53  <a href=\"http://twitter.com/download/android\" ...   \n",
       "41 2022-04-22 06:10:34  <a href=\"http://twitter.com/download/android\" ...   \n",
       "42 2022-04-21 17:22:09  <a href=\"http://twitter.com/download/android\" ...   \n",
       "43 2022-04-21 10:32:26  <a href=\"http://twitter.com/download/android\" ...   \n",
       "\n",
       "                                        original_text  polarity  subjectivity  \\\n",
       "38  RT @NorthstarCharts: The 10-year yield is tell...      0.16      0.540000   \n",
       "39  RT @MichaelAArouet: German 10y mortgage rate w...      0.15      0.175000   \n",
       "41        RT @goldseek: When? https://t.co/kO2FfHKaZg      0.00      0.000000   \n",
       "42  RT @charliebilello: The 30-year mortgage rate ...      0.00      0.183333   \n",
       "43  RT @biancoresearch: Rates rise until something...     -0.40      0.400000   \n",
       "\n",
       "   lang  favorite_count  retweet_count  original_author  followers_count  \\\n",
       "38   en           12179             43  davideiacovozzi               18   \n",
       "39   en           12179             32  davideiacovozzi               18   \n",
       "41   en           12179             26  davideiacovozzi               18   \n",
       "42   en           12179            213  davideiacovozzi               18   \n",
       "43   en           12179            417  davideiacovozzi               18   \n",
       "\n",
       "    friends_count possibly_sensitive  \\\n",
       "38             55               None   \n",
       "39             55               None   \n",
       "41             55               None   \n",
       "42             55               None   \n",
       "43             55               None   \n",
       "\n",
       "                                             hashtags  \\\n",
       "38  [{'text': 'gold', 'indices': [116, 121]}, {'te...   \n",
       "39                                                 []   \n",
       "41                                                 []   \n",
       "42                                                 []   \n",
       "43                                                 []   \n",
       "\n",
       "                                        user_mentions place  \n",
       "38  [{'screen_name': 'NorthstarCharts', 'name': 'N...  None  \n",
       "39  [{'screen_name': 'MichaelAArouet', 'name': 'Mi...  None  \n",
       "41  [{'screen_name': 'goldseek', 'name': 'Peter ⚒ ...  None  \n",
       "42  [{'screen_name': 'charliebilello', 'name': 'Ch...  None  \n",
       "43  [{'screen_name': 'biancoresearch', 'name': 'Ji...  None  "
      ]
     },
     "execution_count": 26,
     "metadata": {},
     "output_type": "execute_result"
    }
   ],
   "source": [
    "clean_eng_df.head()"
   ]
  },
  {
   "cell_type": "code",
   "execution_count": null,
   "id": "910a8dd3-61c8-4c93-b927-0db927cceeee",
   "metadata": {},
   "outputs": [],
   "source": []
  }
 ],
 "metadata": {
  "kernelspec": {
   "display_name": "Twitter Analysis Kernel",
   "language": "python",
   "name": "tweepy"
  },
  "language_info": {
   "codemirror_mode": {
    "name": "ipython",
    "version": 3
   },
   "file_extension": ".py",
   "mimetype": "text/x-python",
   "name": "python",
   "nbconvert_exporter": "python",
   "pygments_lexer": "ipython3",
   "version": "3.9.12"
  }
 },
 "nbformat": 4,
 "nbformat_minor": 5
}
