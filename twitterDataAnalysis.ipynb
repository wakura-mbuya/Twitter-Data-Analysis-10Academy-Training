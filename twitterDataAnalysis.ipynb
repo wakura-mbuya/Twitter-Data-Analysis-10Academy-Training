{
 "cells": [
  {
   "cell_type": "code",
   "execution_count": null,
   "id": "7d1e1a29-5691-42bf-8b38-934b1419416d",
   "metadata": {},
   "outputs": [],
   "source": [
    "import extract_dataframe"
   ]
  },
  {
   "cell_type": "code",
   "execution_count": 14,
   "id": "f63ffc73-6624-48fd-98ec-20425b19a1b5",
   "metadata": {
    "tags": []
   },
   "outputs": [],
   "source": [
    " _, tweet_list = extract_dataframe.read_json(\"data/Economic_Twitter_Data.json\")"
   ]
  },
  {
   "cell_type": "code",
   "execution_count": 15,
   "id": "f64d03f8-a3d7-4d97-b73d-9f058750514a",
   "metadata": {},
   "outputs": [],
   "source": [
    "tweet = extract_dataframe.TweetDfExtractor(tweet_list)"
   ]
  },
  {
   "cell_type": "code",
   "execution_count": 16,
   "id": "5cf823c8-1f60-481d-b603-a47551e3c5ab",
   "metadata": {},
   "outputs": [
    {
     "name": "stdout",
     "output_type": "stream",
     "text": [
      "File Successfully Saved.!!!\n"
     ]
    }
   ],
   "source": [
    "tweet_df = tweet.get_tweet_df(True)  #This creates the df and also saves it to a csv because I have passed True to the function"
   ]
  }
 ],
 "metadata": {
  "kernelspec": {
   "display_name": "Twitter Analysis Kernel",
   "language": "python",
   "name": "tweepy"
  },
  "language_info": {
   "codemirror_mode": {
    "name": "ipython",
    "version": 3
   },
   "file_extension": ".py",
   "mimetype": "text/x-python",
   "name": "python",
   "nbconvert_exporter": "python",
   "pygments_lexer": "ipython3",
   "version": "3.9.12"
  }
 },
 "nbformat": 4,
 "nbformat_minor": 5
}
