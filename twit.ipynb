{
 "cells": [
  {
   "cell_type": "markdown",
   "id": "8b223448-aeab-4a48-8918-1e58137367a8",
   "metadata": {},
   "source": [
    "## Testing Notebook"
   ]
  },
  {
   "cell_type": "markdown",
   "id": "a9475619-9cf0-43fa-9a98-bcef5936ee6b",
   "metadata": {},
   "source": [
    "### Fixing extract_dataframe.py"
   ]
  },
  {
   "cell_type": "code",
   "execution_count": 7,
   "id": "eba8992b-f98a-480b-8b7c-bca3fdae4584",
   "metadata": {},
   "outputs": [],
   "source": [
    "## Import the libraries\n",
    "import json\n",
    "import pandas as pd\n",
    "from textblob import TextBlob"
   ]
  },
  {
   "cell_type": "code",
   "execution_count": 8,
   "id": "5bc65788-2507-44b3-83e1-af0a36ea8e5c",
   "metadata": {},
   "outputs": [],
   "source": [
    "def read_json(json_file: str)->list:\n",
    "    \"\"\"\n",
    "    json file reader to open and read json files into a list\n",
    "    Args:\n",
    "    -----\n",
    "    json_file: str - path of a json file\n",
    "    \n",
    "    Returns\n",
    "    -------\n",
    "    length of the json file and a list of json\n",
    "    \"\"\"\n",
    "    \n",
    "    tweets_data = []\n",
    "    for tweets in open(json_file,'r'):\n",
    "        tweets_data.append(json.loads(tweets))\n",
    "    \n",
    "    \n",
    "    return len(tweets_data), tweets_data"
   ]
  },
  {
   "cell_type": "code",
   "execution_count": 9,
   "id": "270d9ab2-41c3-4f91-83bd-9c4f1d41af8f",
   "metadata": {},
   "outputs": [],
   "source": [
    " _, tweet_list = read_json(\"data/Economic_Twitter_Data.json\")"
   ]
  },
  {
   "cell_type": "code",
   "execution_count": 10,
   "id": "dfc046fd-337c-4ff9-a499-0c5441cbf0a5",
   "metadata": {},
   "outputs": [],
   "source": [
    "#Get fulltext\n",
    "text = [tweet['text'] for tweet in tweet_list]"
   ]
  },
  {
   "cell_type": "code",
   "execution_count": 7,
   "id": "8f23ae22-366d-48cf-9d4f-eba144b85de2",
   "metadata": {},
   "outputs": [
    {
     "data": {
      "text/plain": [
       "['RT @nikitheblogger: Irre: Annalena Baerbock sagt, es bricht ihr das Herz, dass man nicht bedingungslos schwere Waffen liefert.\\nMir bricht e…',\n",
       " 'RT @sagt_mit: Merkel schaffte es in 1 Jahr 1 Million \"Flüchtlinge\" durchzufüttern, jedoch nicht nach 16 Jahren 1 Million Rentner aus der Ar…',\n",
       " 'RT @Kryptonoun: @WRi007 Pharma in Lebensmitteln, Trinkwasser, in der Luft oder in der Zahnpasta irgendwo muss ein Beruhigungsmittel bzw. Be…',\n",
       " 'RT @WRi007: Die #Deutschen sind ein braves Volk!. Mit #Spritpreisen von 2 Euro abgefunden. Mit #inflation abgefunden. Mit höheren #Abgaben…',\n",
       " 'RT @RolandTichy: Baerbock verkündet mal so nebenhin in Riga das Ende der Energieimporte aus Russland. Habeck rudert schon zurück, Scholz sc…']"
      ]
     },
     "execution_count": 7,
     "metadata": {},
     "output_type": "execute_result"
    }
   ],
   "source": [
    "text[:5]"
   ]
  },
  {
   "cell_type": "code",
   "execution_count": 5,
   "id": "d4aed68a-f702-4717-b41c-9a4da9e3c2bf",
   "metadata": {},
   "outputs": [],
   "source": [
    "tweet_sentiments = [TextBlob(txt) for txt in text]\n",
    "polarity = [tweet.polarity for tweet in tweet_sentiments]\n",
    "subjectivity = [tweet.subjectivity for tweet in tweet_sentiments]"
   ]
  },
  {
   "cell_type": "code",
   "execution_count": 7,
   "id": "7a724c22-a2d5-4815-9624-551465e40f44",
   "metadata": {},
   "outputs": [],
   "source": [
    "#subjectivity[20:80]"
   ]
  },
  {
   "cell_type": "code",
   "execution_count": 4,
   "id": "c8c77349-e877-4d7e-a612-87ceca6f23ea",
   "metadata": {},
   "outputs": [
    {
     "data": {
      "text/plain": [
       "dict_keys(['created_at', 'id', 'id_str', 'text', 'truncated', 'entities', 'source', 'in_reply_to_status_id', 'in_reply_to_status_id_str', 'in_reply_to_user_id', 'in_reply_to_user_id_str', 'in_reply_to_screen_name', 'user', 'geo', 'coordinates', 'place', 'contributors', 'retweeted_status', 'is_quote_status', 'retweet_count', 'favorite_count', 'favorited', 'retweeted', 'lang'])"
      ]
     },
     "execution_count": 4,
     "metadata": {},
     "output_type": "execute_result"
    }
   ],
   "source": [
    "tweet_list[0].keys()"
   ]
  },
  {
   "cell_type": "code",
   "execution_count": 5,
   "id": "f1f3a706-f505-44c5-849d-6ced3d5fc1b5",
   "metadata": {},
   "outputs": [
    {
     "data": {
      "text/plain": [
       "{'hashtags': [],\n",
       " 'symbols': [],\n",
       " 'user_mentions': [{'screen_name': 'nikitheblogger',\n",
       "   'name': 'Neverforgetniki',\n",
       "   'id': 809188392089092097,\n",
       "   'id_str': '809188392089092097',\n",
       "   'indices': [3, 18]}],\n",
       " 'urls': []}"
      ]
     },
     "execution_count": 5,
     "metadata": {},
     "output_type": "execute_result"
    }
   ],
   "source": [
    "tweet_list[0]['entities']"
   ]
  },
  {
   "cell_type": "code",
   "execution_count": 6,
   "id": "8208abf1-e6d2-48b5-b9c6-65d8901e28ca",
   "metadata": {},
   "outputs": [
    {
     "data": {
      "text/plain": [
       "'All Over America'"
      ]
     },
     "execution_count": 6,
     "metadata": {},
     "output_type": "execute_result"
    }
   ],
   "source": [
    "tweet_list[90]['user']['location']\n"
   ]
  },
  {
   "cell_type": "code",
   "execution_count": 21,
   "id": "ad522d43-2f0b-452d-8d75-73b4c02df694",
   "metadata": {},
   "outputs": [
    {
     "data": {
      "text/plain": [
       "dict_keys(['id', 'id_str', 'name', 'screen_name', 'location', 'description', 'url', 'entities', 'protected', 'followers_count', 'friends_count', 'listed_count', 'created_at', 'favourites_count', 'utc_offset', 'time_zone', 'geo_enabled', 'verified', 'statuses_count', 'lang', 'contributors_enabled', 'is_translator', 'is_translation_enabled', 'profile_background_color', 'profile_background_image_url', 'profile_background_image_url_https', 'profile_background_tile', 'profile_image_url', 'profile_image_url_https', 'profile_link_color', 'profile_sidebar_border_color', 'profile_sidebar_fill_color', 'profile_text_color', 'profile_use_background_image', 'has_extended_profile', 'default_profile', 'default_profile_image', 'following', 'follow_request_sent', 'notifications', 'translator_type', 'withheld_in_countries'])"
      ]
     },
     "execution_count": 21,
     "metadata": {},
     "output_type": "execute_result"
    }
   ],
   "source": [
    "tweet_list[0]['user'].keys()"
   ]
  },
  {
   "cell_type": "code",
   "execution_count": null,
   "id": "9c0f6cc0-e59e-41d9-ae77-abd71c9e67c2",
   "metadata": {},
   "outputs": [],
   "source": [
    "tweet_list[0]["
   ]
  },
  {
   "cell_type": "code",
   "execution_count": 22,
   "id": "e9cbca2b-1dc9-442c-bde4-c06451719129",
   "metadata": {},
   "outputs": [],
   "source": [
    "   # an example function\n",
    "def find_statuses_count()->list:\n",
    "    statuses_count = [tweet['user']['statuses_count'] for tweet in tweet_list]\n",
    "    return statuses_count\n",
    "        "
   ]
  },
  {
   "cell_type": "code",
   "execution_count": 25,
   "id": "378de23d-28cf-4d23-80f6-f63ae102e4c4",
   "metadata": {},
   "outputs": [],
   "source": [
    "#find_statuses_count()[20:]"
   ]
  },
  {
   "cell_type": "code",
   "execution_count": 9,
   "id": "b12c4bf1-8b30-4cb8-856e-5ffd310d0b1a",
   "metadata": {},
   "outputs": [],
   "source": [
    "def find_full_text()->list:\n",
    "        text = [tweet['text'] for tweet in tweet_list]\n",
    "        return text"
   ]
  },
  {
   "cell_type": "code",
   "execution_count": 10,
   "id": "b981aed9-d0d7-4d05-82fa-62db8b50bd7e",
   "metadata": {},
   "outputs": [],
   "source": [
    "#find_full_text()"
   ]
  },
  {
   "cell_type": "code",
   "execution_count": 11,
   "id": "a778caf2-be40-4d73-8fbe-f25574cd1f98",
   "metadata": {},
   "outputs": [],
   "source": [
    "#tweet_list[0]['user']"
   ]
  },
  {
   "cell_type": "code",
   "execution_count": 12,
   "id": "554b0806-0218-4f62-9e0e-b47a0918af75",
   "metadata": {},
   "outputs": [],
   "source": [
    "#Sentiment Analysis\n",
    "sentiment_objects = [TextBlob(tweet['text']) for tweet in tweet_list]\n",
    "#[x.subjectivity for x in sentiment_objects]"
   ]
  },
  {
   "cell_type": "code",
   "execution_count": 37,
   "id": "3cc4181e-f68d-4f2b-b08e-56dbbf06896d",
   "metadata": {},
   "outputs": [],
   "source": [
    "%run extract_dataframe.py"
   ]
  },
  {
   "cell_type": "markdown",
   "id": "12c1aea2-bc58-48a8-a442-dfcb58f4edda",
   "metadata": {},
   "source": [
    "## clean_tweets_dataframe.py"
   ]
  },
  {
   "cell_type": "markdown",
   "id": "0cc2dda4-1183-40d0-b24f-764c7a909962",
   "metadata": {},
   "source": [
    "#### Get the data from te json file into a dataframe"
   ]
  },
  {
   "cell_type": "code",
   "execution_count": 14,
   "id": "522cf236-55e1-470f-9b77-c5d40e26d04f",
   "metadata": {},
   "outputs": [],
   "source": [
    "from extract_dataframe import TweetDfExtractor         #import the TweetDfExtractor from the extract_dataframe.py module"
   ]
  },
  {
   "cell_type": "code",
   "execution_count": 15,
   "id": "acd22fb7-5683-439e-844f-21b13cde53f0",
   "metadata": {},
   "outputs": [],
   "source": [
    "#create the data frame\n",
    "columns = ['created_at', 'source', 'original_text','clean_text', 'sentiment','polarity','subjectivity', 'lang', 'favorite_count', 'retweet_count', \n",
    "    'original_author', 'screen_count', 'followers_count','friends_count','possibly_sensitive', 'hashtags', 'user_mentions', 'place', 'place_coord_boundaries']\n",
    "_, tweet_list = read_json(\"data/Economic_Twitter_Data.json\")\n",
    "tweet = TweetDfExtractor(tweet_list)\n",
    "tweet_df = tweet.get_tweet_df() "
   ]
  },
  {
   "cell_type": "code",
   "execution_count": 16,
   "id": "e350f5b2-389a-4e4e-ac81-1f4aec86f3a4",
   "metadata": {},
   "outputs": [
    {
     "data": {
      "text/html": [
       "<div>\n",
       "<style scoped>\n",
       "    .dataframe tbody tr th:only-of-type {\n",
       "        vertical-align: middle;\n",
       "    }\n",
       "\n",
       "    .dataframe tbody tr th {\n",
       "        vertical-align: top;\n",
       "    }\n",
       "\n",
       "    .dataframe thead th {\n",
       "        text-align: right;\n",
       "    }\n",
       "</style>\n",
       "<table border=\"1\" class=\"dataframe\">\n",
       "  <thead>\n",
       "    <tr style=\"text-align: right;\">\n",
       "      <th></th>\n",
       "      <th>created_at</th>\n",
       "      <th>source</th>\n",
       "      <th>original_text</th>\n",
       "      <th>polarity</th>\n",
       "      <th>subjectivity</th>\n",
       "      <th>lang</th>\n",
       "      <th>favorite_count</th>\n",
       "      <th>retweet_count</th>\n",
       "      <th>original_author</th>\n",
       "      <th>followers_count</th>\n",
       "      <th>friends_count</th>\n",
       "      <th>possibly_sensitive</th>\n",
       "      <th>hashtags</th>\n",
       "      <th>user_mentions</th>\n",
       "      <th>place</th>\n",
       "    </tr>\n",
       "  </thead>\n",
       "  <tbody>\n",
       "    <tr>\n",
       "      <th>0</th>\n",
       "      <td>Fri Apr 22 22:20:18 +0000 2022</td>\n",
       "      <td>&lt;a href=\"http://twitter.com/download/android\" ...</td>\n",
       "      <td>RT @nikitheblogger: Irre: Annalena Baerbock sa...</td>\n",
       "      <td>0.0</td>\n",
       "      <td>0.0</td>\n",
       "      <td>de</td>\n",
       "      <td>113</td>\n",
       "      <td>355</td>\n",
       "      <td>McMc74078966</td>\n",
       "      <td>3</td>\n",
       "      <td>12</td>\n",
       "      <td>None</td>\n",
       "      <td>[]</td>\n",
       "      <td>[{'screen_name': 'nikitheblogger', 'name': 'Ne...</td>\n",
       "      <td>None</td>\n",
       "    </tr>\n",
       "    <tr>\n",
       "      <th>1</th>\n",
       "      <td>Fri Apr 22 22:19:16 +0000 2022</td>\n",
       "      <td>&lt;a href=\"http://twitter.com/download/android\" ...</td>\n",
       "      <td>RT @sagt_mit: Merkel schaffte es in 1 Jahr 1 M...</td>\n",
       "      <td>0.0</td>\n",
       "      <td>0.0</td>\n",
       "      <td>de</td>\n",
       "      <td>113</td>\n",
       "      <td>505</td>\n",
       "      <td>McMc74078966</td>\n",
       "      <td>3</td>\n",
       "      <td>12</td>\n",
       "      <td>None</td>\n",
       "      <td>[]</td>\n",
       "      <td>[{'screen_name': 'sagt_mit', 'name': 'Sie sagt...</td>\n",
       "      <td>None</td>\n",
       "    </tr>\n",
       "    <tr>\n",
       "      <th>2</th>\n",
       "      <td>Fri Apr 22 22:17:28 +0000 2022</td>\n",
       "      <td>&lt;a href=\"http://twitter.com/download/android\" ...</td>\n",
       "      <td>RT @Kryptonoun: @WRi007 Pharma in Lebensmittel...</td>\n",
       "      <td>0.0</td>\n",
       "      <td>0.0</td>\n",
       "      <td>de</td>\n",
       "      <td>113</td>\n",
       "      <td>4</td>\n",
       "      <td>McMc74078966</td>\n",
       "      <td>3</td>\n",
       "      <td>12</td>\n",
       "      <td>None</td>\n",
       "      <td>[]</td>\n",
       "      <td>[{'screen_name': 'Kryptonoun', 'name': 'Krypto...</td>\n",
       "      <td>None</td>\n",
       "    </tr>\n",
       "    <tr>\n",
       "      <th>3</th>\n",
       "      <td>Fri Apr 22 22:17:20 +0000 2022</td>\n",
       "      <td>&lt;a href=\"http://twitter.com/download/android\" ...</td>\n",
       "      <td>RT @WRi007: Die #Deutschen sind ein braves Vol...</td>\n",
       "      <td>0.0</td>\n",
       "      <td>0.0</td>\n",
       "      <td>de</td>\n",
       "      <td>113</td>\n",
       "      <td>332</td>\n",
       "      <td>McMc74078966</td>\n",
       "      <td>3</td>\n",
       "      <td>12</td>\n",
       "      <td>None</td>\n",
       "      <td>[{'text': 'Deutschen', 'indices': [16, 26]}, {...</td>\n",
       "      <td>[{'screen_name': 'WRi007', 'name': 'Wolfgang B...</td>\n",
       "      <td>None</td>\n",
       "    </tr>\n",
       "    <tr>\n",
       "      <th>4</th>\n",
       "      <td>Fri Apr 22 22:13:15 +0000 2022</td>\n",
       "      <td>&lt;a href=\"http://twitter.com/download/android\" ...</td>\n",
       "      <td>RT @RolandTichy: Baerbock verkündet mal so neb...</td>\n",
       "      <td>0.0</td>\n",
       "      <td>0.0</td>\n",
       "      <td>de</td>\n",
       "      <td>113</td>\n",
       "      <td>386</td>\n",
       "      <td>McMc74078966</td>\n",
       "      <td>3</td>\n",
       "      <td>12</td>\n",
       "      <td>None</td>\n",
       "      <td>[]</td>\n",
       "      <td>[{'screen_name': 'RolandTichy', 'name': 'Rolan...</td>\n",
       "      <td>None</td>\n",
       "    </tr>\n",
       "  </tbody>\n",
       "</table>\n",
       "</div>"
      ],
      "text/plain": [
       "                       created_at  \\\n",
       "0  Fri Apr 22 22:20:18 +0000 2022   \n",
       "1  Fri Apr 22 22:19:16 +0000 2022   \n",
       "2  Fri Apr 22 22:17:28 +0000 2022   \n",
       "3  Fri Apr 22 22:17:20 +0000 2022   \n",
       "4  Fri Apr 22 22:13:15 +0000 2022   \n",
       "\n",
       "                                              source  \\\n",
       "0  <a href=\"http://twitter.com/download/android\" ...   \n",
       "1  <a href=\"http://twitter.com/download/android\" ...   \n",
       "2  <a href=\"http://twitter.com/download/android\" ...   \n",
       "3  <a href=\"http://twitter.com/download/android\" ...   \n",
       "4  <a href=\"http://twitter.com/download/android\" ...   \n",
       "\n",
       "                                       original_text  polarity  subjectivity  \\\n",
       "0  RT @nikitheblogger: Irre: Annalena Baerbock sa...       0.0           0.0   \n",
       "1  RT @sagt_mit: Merkel schaffte es in 1 Jahr 1 M...       0.0           0.0   \n",
       "2  RT @Kryptonoun: @WRi007 Pharma in Lebensmittel...       0.0           0.0   \n",
       "3  RT @WRi007: Die #Deutschen sind ein braves Vol...       0.0           0.0   \n",
       "4  RT @RolandTichy: Baerbock verkündet mal so neb...       0.0           0.0   \n",
       "\n",
       "  lang  favorite_count  retweet_count original_author  followers_count  \\\n",
       "0   de             113            355    McMc74078966                3   \n",
       "1   de             113            505    McMc74078966                3   \n",
       "2   de             113              4    McMc74078966                3   \n",
       "3   de             113            332    McMc74078966                3   \n",
       "4   de             113            386    McMc74078966                3   \n",
       "\n",
       "   friends_count possibly_sensitive  \\\n",
       "0             12               None   \n",
       "1             12               None   \n",
       "2             12               None   \n",
       "3             12               None   \n",
       "4             12               None   \n",
       "\n",
       "                                            hashtags  \\\n",
       "0                                                 []   \n",
       "1                                                 []   \n",
       "2                                                 []   \n",
       "3  [{'text': 'Deutschen', 'indices': [16, 26]}, {...   \n",
       "4                                                 []   \n",
       "\n",
       "                                       user_mentions place  \n",
       "0  [{'screen_name': 'nikitheblogger', 'name': 'Ne...  None  \n",
       "1  [{'screen_name': 'sagt_mit', 'name': 'Sie sagt...  None  \n",
       "2  [{'screen_name': 'Kryptonoun', 'name': 'Krypto...  None  \n",
       "3  [{'screen_name': 'WRi007', 'name': 'Wolfgang B...  None  \n",
       "4  [{'screen_name': 'RolandTichy', 'name': 'Rolan...  None  "
      ]
     },
     "execution_count": 16,
     "metadata": {},
     "output_type": "execute_result"
    }
   ],
   "source": [
    "tweet_df.head()"
   ]
  },
  {
   "cell_type": "markdown",
   "id": "4574e34f-9f44-4c58-8a26-6ce876d3aff6",
   "metadata": {},
   "source": [
    "#### Data cleaning"
   ]
  },
  {
   "cell_type": "code",
   "execution_count": 17,
   "id": "53ed08f7-38f4-4f72-8499-9fb63c61f5b9",
   "metadata": {},
   "outputs": [],
   "source": [
    "def drop_unwanted_column(df:pd.DataFrame)->pd.DataFrame:\n",
    "        \"\"\"\n",
    "        remove rows that has column names. This error originated from\n",
    "        the data collection stage.  \n",
    "        \"\"\"\n",
    "        unwanted_rows = df[df['retweet_count'] == 'retweet_count' ].index\n",
    "        df.drop(unwanted_rows , inplace=True)\n",
    "        df = df[df['polarity'] != 'polarity']\n",
    "        \n",
    "        return df"
   ]
  },
  {
   "cell_type": "code",
   "execution_count": 18,
   "id": "218286fb-bbb5-471c-8c52-04b85ed5e11b",
   "metadata": {},
   "outputs": [
    {
     "data": {
      "text/plain": [
       "pandas.core.frame.DataFrame"
      ]
     },
     "execution_count": 18,
     "metadata": {},
     "output_type": "execute_result"
    }
   ],
   "source": [
    "tweet_df = drop_unwanted_column(tweet_df)\n",
    "#tweet_df.head()\n",
    "type(tweet_df)"
   ]
  },
  {
   "cell_type": "code",
   "execution_count": 20,
   "id": "490e3ecf-0d6c-47f8-a7e1-fd79188e8c37",
   "metadata": {},
   "outputs": [
    {
     "data": {
      "text/plain": [
       "Index(['created_at', 'source', 'original_text', 'polarity', 'subjectivity',\n",
       "       'lang', 'favorite_count', 'retweet_count', 'original_author',\n",
       "       'followers_count', 'friends_count', 'possibly_sensitive', 'hashtags',\n",
       "       'user_mentions', 'place'],\n",
       "      dtype='object')"
      ]
     },
     "execution_count": 20,
     "metadata": {},
     "output_type": "execute_result"
    }
   ],
   "source": [
    "tweet_df.columns"
   ]
  },
  {
   "cell_type": "markdown",
   "id": "d41aceb6-ed34-44e9-ae8b-c97666f5b54a",
   "metadata": {},
   "source": [
    "##### Drop duplicates\n"
   ]
  },
  {
   "cell_type": "code",
   "execution_count": 27,
   "id": "9b06b394-71b5-4ecf-90cf-be89a9395252",
   "metadata": {},
   "outputs": [
    {
     "data": {
      "text/html": [
       "<div>\n",
       "<style scoped>\n",
       "    .dataframe tbody tr th:only-of-type {\n",
       "        vertical-align: middle;\n",
       "    }\n",
       "\n",
       "    .dataframe tbody tr th {\n",
       "        vertical-align: top;\n",
       "    }\n",
       "\n",
       "    .dataframe thead th {\n",
       "        text-align: right;\n",
       "    }\n",
       "</style>\n",
       "<table border=\"1\" class=\"dataframe\">\n",
       "  <thead>\n",
       "    <tr style=\"text-align: right;\">\n",
       "      <th></th>\n",
       "      <th>created_at</th>\n",
       "      <th>source</th>\n",
       "      <th>original_text</th>\n",
       "      <th>polarity</th>\n",
       "      <th>subjectivity</th>\n",
       "      <th>lang</th>\n",
       "      <th>favorite_count</th>\n",
       "      <th>retweet_count</th>\n",
       "      <th>original_author</th>\n",
       "      <th>followers_count</th>\n",
       "      <th>friends_count</th>\n",
       "      <th>possibly_sensitive</th>\n",
       "      <th>hashtags</th>\n",
       "      <th>user_mentions</th>\n",
       "      <th>place</th>\n",
       "    </tr>\n",
       "  </thead>\n",
       "  <tbody>\n",
       "    <tr>\n",
       "      <th>0</th>\n",
       "      <td>Fri Apr 22 22:20:18 +0000 2022</td>\n",
       "      <td>&lt;a href=\"http://twitter.com/download/android\" ...</td>\n",
       "      <td>RT @nikitheblogger: Irre: Annalena Baerbock sa...</td>\n",
       "      <td>0.0</td>\n",
       "      <td>0.0</td>\n",
       "      <td>de</td>\n",
       "      <td>113</td>\n",
       "      <td>355</td>\n",
       "      <td>McMc74078966</td>\n",
       "      <td>3</td>\n",
       "      <td>12</td>\n",
       "      <td>None</td>\n",
       "      <td>[]</td>\n",
       "      <td>[{'screen_name': 'nikitheblogger', 'name': 'Ne...</td>\n",
       "      <td>None</td>\n",
       "    </tr>\n",
       "    <tr>\n",
       "      <th>1</th>\n",
       "      <td>Fri Apr 22 22:19:16 +0000 2022</td>\n",
       "      <td>&lt;a href=\"http://twitter.com/download/android\" ...</td>\n",
       "      <td>RT @sagt_mit: Merkel schaffte es in 1 Jahr 1 M...</td>\n",
       "      <td>0.0</td>\n",
       "      <td>0.0</td>\n",
       "      <td>de</td>\n",
       "      <td>113</td>\n",
       "      <td>505</td>\n",
       "      <td>McMc74078966</td>\n",
       "      <td>3</td>\n",
       "      <td>12</td>\n",
       "      <td>None</td>\n",
       "      <td>[]</td>\n",
       "      <td>[{'screen_name': 'sagt_mit', 'name': 'Sie sagt...</td>\n",
       "      <td>None</td>\n",
       "    </tr>\n",
       "    <tr>\n",
       "      <th>2</th>\n",
       "      <td>Fri Apr 22 22:17:28 +0000 2022</td>\n",
       "      <td>&lt;a href=\"http://twitter.com/download/android\" ...</td>\n",
       "      <td>RT @Kryptonoun: @WRi007 Pharma in Lebensmittel...</td>\n",
       "      <td>0.0</td>\n",
       "      <td>0.0</td>\n",
       "      <td>de</td>\n",
       "      <td>113</td>\n",
       "      <td>4</td>\n",
       "      <td>McMc74078966</td>\n",
       "      <td>3</td>\n",
       "      <td>12</td>\n",
       "      <td>None</td>\n",
       "      <td>[]</td>\n",
       "      <td>[{'screen_name': 'Kryptonoun', 'name': 'Krypto...</td>\n",
       "      <td>None</td>\n",
       "    </tr>\n",
       "    <tr>\n",
       "      <th>3</th>\n",
       "      <td>Fri Apr 22 22:17:20 +0000 2022</td>\n",
       "      <td>&lt;a href=\"http://twitter.com/download/android\" ...</td>\n",
       "      <td>RT @WRi007: Die #Deutschen sind ein braves Vol...</td>\n",
       "      <td>0.0</td>\n",
       "      <td>0.0</td>\n",
       "      <td>de</td>\n",
       "      <td>113</td>\n",
       "      <td>332</td>\n",
       "      <td>McMc74078966</td>\n",
       "      <td>3</td>\n",
       "      <td>12</td>\n",
       "      <td>None</td>\n",
       "      <td>[{'text': 'Deutschen', 'indices': [16, 26]}, {...</td>\n",
       "      <td>[{'screen_name': 'WRi007', 'name': 'Wolfgang B...</td>\n",
       "      <td>None</td>\n",
       "    </tr>\n",
       "    <tr>\n",
       "      <th>4</th>\n",
       "      <td>Fri Apr 22 22:13:15 +0000 2022</td>\n",
       "      <td>&lt;a href=\"http://twitter.com/download/android\" ...</td>\n",
       "      <td>RT @RolandTichy: Baerbock verkündet mal so neb...</td>\n",
       "      <td>0.0</td>\n",
       "      <td>0.0</td>\n",
       "      <td>de</td>\n",
       "      <td>113</td>\n",
       "      <td>386</td>\n",
       "      <td>McMc74078966</td>\n",
       "      <td>3</td>\n",
       "      <td>12</td>\n",
       "      <td>None</td>\n",
       "      <td>[]</td>\n",
       "      <td>[{'screen_name': 'RolandTichy', 'name': 'Rolan...</td>\n",
       "      <td>None</td>\n",
       "    </tr>\n",
       "  </tbody>\n",
       "</table>\n",
       "</div>"
      ],
      "text/plain": [
       "                       created_at  \\\n",
       "0  Fri Apr 22 22:20:18 +0000 2022   \n",
       "1  Fri Apr 22 22:19:16 +0000 2022   \n",
       "2  Fri Apr 22 22:17:28 +0000 2022   \n",
       "3  Fri Apr 22 22:17:20 +0000 2022   \n",
       "4  Fri Apr 22 22:13:15 +0000 2022   \n",
       "\n",
       "                                              source  \\\n",
       "0  <a href=\"http://twitter.com/download/android\" ...   \n",
       "1  <a href=\"http://twitter.com/download/android\" ...   \n",
       "2  <a href=\"http://twitter.com/download/android\" ...   \n",
       "3  <a href=\"http://twitter.com/download/android\" ...   \n",
       "4  <a href=\"http://twitter.com/download/android\" ...   \n",
       "\n",
       "                                       original_text  polarity  subjectivity  \\\n",
       "0  RT @nikitheblogger: Irre: Annalena Baerbock sa...       0.0           0.0   \n",
       "1  RT @sagt_mit: Merkel schaffte es in 1 Jahr 1 M...       0.0           0.0   \n",
       "2  RT @Kryptonoun: @WRi007 Pharma in Lebensmittel...       0.0           0.0   \n",
       "3  RT @WRi007: Die #Deutschen sind ein braves Vol...       0.0           0.0   \n",
       "4  RT @RolandTichy: Baerbock verkündet mal so neb...       0.0           0.0   \n",
       "\n",
       "  lang  favorite_count  retweet_count original_author  followers_count  \\\n",
       "0   de             113            355    McMc74078966                3   \n",
       "1   de             113            505    McMc74078966                3   \n",
       "2   de             113              4    McMc74078966                3   \n",
       "3   de             113            332    McMc74078966                3   \n",
       "4   de             113            386    McMc74078966                3   \n",
       "\n",
       "   friends_count possibly_sensitive  \\\n",
       "0             12               None   \n",
       "1             12               None   \n",
       "2             12               None   \n",
       "3             12               None   \n",
       "4             12               None   \n",
       "\n",
       "                                            hashtags  \\\n",
       "0                                                 []   \n",
       "1                                                 []   \n",
       "2                                                 []   \n",
       "3  [{'text': 'Deutschen', 'indices': [16, 26]}, {...   \n",
       "4                                                 []   \n",
       "\n",
       "                                       user_mentions place  \n",
       "0  [{'screen_name': 'nikitheblogger', 'name': 'Ne...  None  \n",
       "1  [{'screen_name': 'sagt_mit', 'name': 'Sie sagt...  None  \n",
       "2  [{'screen_name': 'Kryptonoun', 'name': 'Krypto...  None  \n",
       "3  [{'screen_name': 'WRi007', 'name': 'Wolfgang B...  None  \n",
       "4  [{'screen_name': 'RolandTichy', 'name': 'Rolan...  None  "
      ]
     },
     "execution_count": 27,
     "metadata": {},
     "output_type": "execute_result"
    }
   ],
   "source": [
    "#drop duplicates based on the columns\n",
    "new_df = tweet_df.drop_duplicates(subset = ['created_at', 'source', 'original_text', 'polarity',\n",
    "                                    'subjectivity', 'lang', 'favorite_count', 'retweet_count',\n",
    "                                    'original_author','followers_count', 'friends_count', 'possibly_sensitive',\n",
    "                                    'place']\n",
    "                        )\n",
    "new_df.head()"
   ]
  },
  {
   "cell_type": "code",
   "execution_count": 28,
   "id": "d02e4a26-a7a8-402b-8b6a-942c7eb52f5d",
   "metadata": {},
   "outputs": [
    {
     "data": {
      "text/html": [
       "<div>\n",
       "<style scoped>\n",
       "    .dataframe tbody tr th:only-of-type {\n",
       "        vertical-align: middle;\n",
       "    }\n",
       "\n",
       "    .dataframe tbody tr th {\n",
       "        vertical-align: top;\n",
       "    }\n",
       "\n",
       "    .dataframe thead th {\n",
       "        text-align: right;\n",
       "    }\n",
       "</style>\n",
       "<table border=\"1\" class=\"dataframe\">\n",
       "  <thead>\n",
       "    <tr style=\"text-align: right;\">\n",
       "      <th></th>\n",
       "      <th>created_at</th>\n",
       "      <th>source</th>\n",
       "      <th>original_text</th>\n",
       "      <th>polarity</th>\n",
       "      <th>subjectivity</th>\n",
       "      <th>lang</th>\n",
       "      <th>favorite_count</th>\n",
       "      <th>retweet_count</th>\n",
       "      <th>original_author</th>\n",
       "      <th>followers_count</th>\n",
       "      <th>friends_count</th>\n",
       "      <th>possibly_sensitive</th>\n",
       "      <th>hashtags</th>\n",
       "      <th>user_mentions</th>\n",
       "      <th>place</th>\n",
       "    </tr>\n",
       "  </thead>\n",
       "  <tbody>\n",
       "    <tr>\n",
       "      <th>0</th>\n",
       "      <td>2022-04-22 22:20:18</td>\n",
       "      <td>&lt;a href=\"http://twitter.com/download/android\" ...</td>\n",
       "      <td>RT @nikitheblogger: Irre: Annalena Baerbock sa...</td>\n",
       "      <td>0.0</td>\n",
       "      <td>0.0</td>\n",
       "      <td>de</td>\n",
       "      <td>113</td>\n",
       "      <td>355</td>\n",
       "      <td>McMc74078966</td>\n",
       "      <td>3</td>\n",
       "      <td>12</td>\n",
       "      <td>None</td>\n",
       "      <td>[]</td>\n",
       "      <td>[{'screen_name': 'nikitheblogger', 'name': 'Ne...</td>\n",
       "      <td>None</td>\n",
       "    </tr>\n",
       "    <tr>\n",
       "      <th>1</th>\n",
       "      <td>2022-04-22 22:19:16</td>\n",
       "      <td>&lt;a href=\"http://twitter.com/download/android\" ...</td>\n",
       "      <td>RT @sagt_mit: Merkel schaffte es in 1 Jahr 1 M...</td>\n",
       "      <td>0.0</td>\n",
       "      <td>0.0</td>\n",
       "      <td>de</td>\n",
       "      <td>113</td>\n",
       "      <td>505</td>\n",
       "      <td>McMc74078966</td>\n",
       "      <td>3</td>\n",
       "      <td>12</td>\n",
       "      <td>None</td>\n",
       "      <td>[]</td>\n",
       "      <td>[{'screen_name': 'sagt_mit', 'name': 'Sie sagt...</td>\n",
       "      <td>None</td>\n",
       "    </tr>\n",
       "    <tr>\n",
       "      <th>2</th>\n",
       "      <td>2022-04-22 22:17:28</td>\n",
       "      <td>&lt;a href=\"http://twitter.com/download/android\" ...</td>\n",
       "      <td>RT @Kryptonoun: @WRi007 Pharma in Lebensmittel...</td>\n",
       "      <td>0.0</td>\n",
       "      <td>0.0</td>\n",
       "      <td>de</td>\n",
       "      <td>113</td>\n",
       "      <td>4</td>\n",
       "      <td>McMc74078966</td>\n",
       "      <td>3</td>\n",
       "      <td>12</td>\n",
       "      <td>None</td>\n",
       "      <td>[]</td>\n",
       "      <td>[{'screen_name': 'Kryptonoun', 'name': 'Krypto...</td>\n",
       "      <td>None</td>\n",
       "    </tr>\n",
       "    <tr>\n",
       "      <th>3</th>\n",
       "      <td>2022-04-22 22:17:20</td>\n",
       "      <td>&lt;a href=\"http://twitter.com/download/android\" ...</td>\n",
       "      <td>RT @WRi007: Die #Deutschen sind ein braves Vol...</td>\n",
       "      <td>0.0</td>\n",
       "      <td>0.0</td>\n",
       "      <td>de</td>\n",
       "      <td>113</td>\n",
       "      <td>332</td>\n",
       "      <td>McMc74078966</td>\n",
       "      <td>3</td>\n",
       "      <td>12</td>\n",
       "      <td>None</td>\n",
       "      <td>[{'text': 'Deutschen', 'indices': [16, 26]}, {...</td>\n",
       "      <td>[{'screen_name': 'WRi007', 'name': 'Wolfgang B...</td>\n",
       "      <td>None</td>\n",
       "    </tr>\n",
       "    <tr>\n",
       "      <th>4</th>\n",
       "      <td>2022-04-22 22:13:15</td>\n",
       "      <td>&lt;a href=\"http://twitter.com/download/android\" ...</td>\n",
       "      <td>RT @RolandTichy: Baerbock verkündet mal so neb...</td>\n",
       "      <td>0.0</td>\n",
       "      <td>0.0</td>\n",
       "      <td>de</td>\n",
       "      <td>113</td>\n",
       "      <td>386</td>\n",
       "      <td>McMc74078966</td>\n",
       "      <td>3</td>\n",
       "      <td>12</td>\n",
       "      <td>None</td>\n",
       "      <td>[]</td>\n",
       "      <td>[{'screen_name': 'RolandTichy', 'name': 'Rolan...</td>\n",
       "      <td>None</td>\n",
       "    </tr>\n",
       "  </tbody>\n",
       "</table>\n",
       "</div>"
      ],
      "text/plain": [
       "           created_at                                             source  \\\n",
       "0 2022-04-22 22:20:18  <a href=\"http://twitter.com/download/android\" ...   \n",
       "1 2022-04-22 22:19:16  <a href=\"http://twitter.com/download/android\" ...   \n",
       "2 2022-04-22 22:17:28  <a href=\"http://twitter.com/download/android\" ...   \n",
       "3 2022-04-22 22:17:20  <a href=\"http://twitter.com/download/android\" ...   \n",
       "4 2022-04-22 22:13:15  <a href=\"http://twitter.com/download/android\" ...   \n",
       "\n",
       "                                       original_text  polarity  subjectivity  \\\n",
       "0  RT @nikitheblogger: Irre: Annalena Baerbock sa...       0.0           0.0   \n",
       "1  RT @sagt_mit: Merkel schaffte es in 1 Jahr 1 M...       0.0           0.0   \n",
       "2  RT @Kryptonoun: @WRi007 Pharma in Lebensmittel...       0.0           0.0   \n",
       "3  RT @WRi007: Die #Deutschen sind ein braves Vol...       0.0           0.0   \n",
       "4  RT @RolandTichy: Baerbock verkündet mal so neb...       0.0           0.0   \n",
       "\n",
       "  lang  favorite_count  retweet_count original_author  followers_count  \\\n",
       "0   de             113            355    McMc74078966                3   \n",
       "1   de             113            505    McMc74078966                3   \n",
       "2   de             113              4    McMc74078966                3   \n",
       "3   de             113            332    McMc74078966                3   \n",
       "4   de             113            386    McMc74078966                3   \n",
       "\n",
       "   friends_count possibly_sensitive  \\\n",
       "0             12               None   \n",
       "1             12               None   \n",
       "2             12               None   \n",
       "3             12               None   \n",
       "4             12               None   \n",
       "\n",
       "                                            hashtags  \\\n",
       "0                                                 []   \n",
       "1                                                 []   \n",
       "2                                                 []   \n",
       "3  [{'text': 'Deutschen', 'indices': [16, 26]}, {...   \n",
       "4                                                 []   \n",
       "\n",
       "                                       user_mentions place  \n",
       "0  [{'screen_name': 'nikitheblogger', 'name': 'Ne...  None  \n",
       "1  [{'screen_name': 'sagt_mit', 'name': 'Sie sagt...  None  \n",
       "2  [{'screen_name': 'Kryptonoun', 'name': 'Krypto...  None  \n",
       "3  [{'screen_name': 'WRi007', 'name': 'Wolfgang B...  None  \n",
       "4  [{'screen_name': 'RolandTichy', 'name': 'Rolan...  None  "
      ]
     },
     "execution_count": 28,
     "metadata": {},
     "output_type": "execute_result"
    }
   ],
   "source": [
    "new_df[\"created_at\"] = new_df[\"created_at\"].astype('datetime64[ns]') \n",
    "new_df[\"created_at\"] = new_df.created_at.dt.to_pydatetime()\n",
    "new_df.head()"
   ]
  },
  {
   "cell_type": "code",
   "execution_count": 30,
   "id": "fd96f985-e4bd-460f-94b9-db1d944205d3",
   "metadata": {},
   "outputs": [
    {
     "data": {
      "text/plain": [
       "24514"
      ]
     },
     "execution_count": 30,
     "metadata": {},
     "output_type": "execute_result"
    }
   ],
   "source": [
    "new_df = new_df[new_df['created_at'] >= '2020-12-31' ]\n",
    "len(new_df)"
   ]
  },
  {
   "cell_type": "code",
   "execution_count": 31,
   "id": "ccd81ebc-2c60-4737-b060-a726f56f2272",
   "metadata": {},
   "outputs": [
    {
     "data": {
      "text/plain": [
       "numpy.float64"
      ]
     },
     "execution_count": 31,
     "metadata": {},
     "output_type": "execute_result"
    }
   ],
   "source": [
    "type(new_df.polarity[0])"
   ]
  },
  {
   "cell_type": "code",
   "execution_count": 34,
   "id": "c70962c9-c449-462f-98b7-f737a72b23ff",
   "metadata": {},
   "outputs": [],
   "source": [
    "new_df['polarity']=pd.to_numeric(new_df.polarity)\n",
    "new_df['subjectivity']=pd.to_numeric(new_df.subjectivity)\n",
    "new_df['retweet_count']=pd.to_numeric(new_df.retweet_count)\n",
    "new_df['favorite_count']=pd.to_numeric(new_df.favorite_count)\n",
    "new_df['followers_count']=pd.to_numeric(new_df.followers_count)    "
   ]
  },
  {
   "cell_type": "code",
   "execution_count": 36,
   "id": "15d417cc-3634-4f50-b598-7346cc319443",
   "metadata": {},
   "outputs": [
    {
     "data": {
      "text/plain": [
       "24514"
      ]
     },
     "execution_count": 36,
     "metadata": {},
     "output_type": "execute_result"
    }
   ],
   "source": [
    "len(new_df)"
   ]
  },
  {
   "cell_type": "code",
   "execution_count": 35,
   "id": "a7861132-7872-47bc-9bb3-95e3f3247533",
   "metadata": {},
   "outputs": [
    {
     "data": {
      "text/plain": [
       "16374"
      ]
     },
     "execution_count": 35,
     "metadata": {},
     "output_type": "execute_result"
    }
   ],
   "source": [
    "eng_df = new_df[new_df['lang'] == 'en']\n",
    "len(eng_df)"
   ]
  },
  {
   "cell_type": "markdown",
   "id": "086c39a9-fad1-4c1c-a875-8f1c8b9e7317",
   "metadata": {},
   "source": [
    "## Unit Testing\n",
    "    "
   ]
  },
  {
   "cell_type": "code",
   "execution_count": 8,
   "id": "c0920033-27eb-4695-9994-4444c5f5ac12",
   "metadata": {},
   "outputs": [],
   "source": [
    "_, tweet_list = read_json(\"data/Economic_Twitter_Data.json\")"
   ]
  },
  {
   "cell_type": "code",
   "execution_count": 9,
   "id": "d1dff5bc-e42c-4b31-ba51-70177fbb75b1",
   "metadata": {},
   "outputs": [],
   "source": [
    "#Get fulltext\n",
    "text = [tweet['text'] for tweet in tweet_list]"
   ]
  },
  {
   "cell_type": "code",
   "execution_count": 10,
   "id": "294b1881-52ad-4c9a-afea-a75bf3f813f0",
   "metadata": {},
   "outputs": [
    {
     "data": {
      "text/plain": [
       "['RT @nikitheblogger: Irre: Annalena Baerbock sagt, es bricht ihr das Herz, dass man nicht bedingungslos schwere Waffen liefert.\\nMir bricht e…',\n",
       " 'RT @sagt_mit: Merkel schaffte es in 1 Jahr 1 Million \"Flüchtlinge\" durchzufüttern, jedoch nicht nach 16 Jahren 1 Million Rentner aus der Ar…',\n",
       " 'RT @Kryptonoun: @WRi007 Pharma in Lebensmitteln, Trinkwasser, in der Luft oder in der Zahnpasta irgendwo muss ein Beruhigungsmittel bzw. Be…',\n",
       " 'RT @WRi007: Die #Deutschen sind ein braves Volk!. Mit #Spritpreisen von 2 Euro abgefunden. Mit #inflation abgefunden. Mit höheren #Abgaben…',\n",
       " 'RT @RolandTichy: Baerbock verkündet mal so nebenhin in Riga das Ende der Energieimporte aus Russland. Habeck rudert schon zurück, Scholz sc…']"
      ]
     },
     "execution_count": 10,
     "metadata": {},
     "output_type": "execute_result"
    }
   ],
   "source": [
    "text[:5]"
   ]
  },
  {
   "cell_type": "code",
   "execution_count": 11,
   "id": "6aff0d48-1d5c-4ba2-a9d1-9e7f93f8b671",
   "metadata": {},
   "outputs": [],
   "source": [
    "#statuses_count\n",
    "statuses_count = [tweet['user']['statuses_count'] for tweet in tweet_list]"
   ]
  },
  {
   "cell_type": "code",
   "execution_count": 12,
   "id": "c2389393-bad7-46e5-acb9-a64dafa139b8",
   "metadata": {},
   "outputs": [
    {
     "data": {
      "text/plain": [
       "[40, 40, 40, 40, 40]"
      ]
     },
     "execution_count": 12,
     "metadata": {},
     "output_type": "execute_result"
    }
   ],
   "source": [
    "statuses_count[:5]"
   ]
  },
  {
   "cell_type": "code",
   "execution_count": 13,
   "id": "b08c949f-e659-4dac-b8c3-a8db6dc807d7",
   "metadata": {},
   "outputs": [],
   "source": [
    "#find_Sentiments\n",
    "tweet_sentiments = [TextBlob(txt) for txt in text]\n",
    "polarity = [tweet.polarity for tweet in tweet_sentiments]\n",
    "subjectivity = [tweet.subjectivity for tweet in tweet_sentiments]\n"
   ]
  },
  {
   "cell_type": "code",
   "execution_count": 14,
   "id": "a8c71696-4f6e-48e1-84d7-82ef30e57d7e",
   "metadata": {},
   "outputs": [
    {
     "data": {
      "text/plain": [
       "[0.0, 0.0, 0.0, 0.0, 0.0]"
      ]
     },
     "execution_count": 14,
     "metadata": {},
     "output_type": "execute_result"
    }
   ],
   "source": [
    "polarity[:5]"
   ]
  },
  {
   "cell_type": "code",
   "execution_count": 16,
   "id": "d61115d8-1de1-4967-b874-1ce3e2904310",
   "metadata": {},
   "outputs": [
    {
     "data": {
      "text/plain": [
       "[0.0, 0.0, 0.0, 0.0, 0.0]"
      ]
     },
     "execution_count": 16,
     "metadata": {},
     "output_type": "execute_result"
    }
   ],
   "source": [
    "subjectivity[:5]"
   ]
  },
  {
   "cell_type": "code",
   "execution_count": 18,
   "id": "d33837cb-1948-4f98-8b17-6c5e61d59015",
   "metadata": {},
   "outputs": [
    {
     "data": {
      "text/plain": [
       "['Fri Apr 22 22:20:18 +0000 2022',\n",
       " 'Fri Apr 22 22:19:16 +0000 2022',\n",
       " 'Fri Apr 22 22:17:28 +0000 2022',\n",
       " 'Fri Apr 22 22:17:20 +0000 2022',\n",
       " 'Fri Apr 22 22:13:15 +0000 2022']"
      ]
     },
     "execution_count": 18,
     "metadata": {},
     "output_type": "execute_result"
    }
   ],
   "source": [
    "#find_created_at\n",
    "[tweet['created_at'] for tweet in tweet_list][:5]"
   ]
  },
  {
   "cell_type": "code",
   "execution_count": 19,
   "id": "16654387-ab0f-4096-a17e-b1dd1ec6315f",
   "metadata": {},
   "outputs": [
    {
     "data": {
      "text/plain": [
       "['McMc74078966',\n",
       " 'McMc74078966',\n",
       " 'McMc74078966',\n",
       " 'McMc74078966',\n",
       " 'McMc74078966']"
      ]
     },
     "execution_count": 19,
     "metadata": {},
     "output_type": "execute_result"
    }
   ],
   "source": [
    "#screen_name\n",
    "[tweet['user']['screen_name'] for tweet in tweet_list][:5]"
   ]
  },
  {
   "cell_type": "code",
   "execution_count": 20,
   "id": "602a7a33-48a5-47b8-a8c0-76970ddd0645",
   "metadata": {},
   "outputs": [
    {
     "data": {
      "text/plain": [
       "[3, 3, 3, 3, 3]"
      ]
     },
     "execution_count": 20,
     "metadata": {},
     "output_type": "execute_result"
    }
   ],
   "source": [
    "#follower count\n",
    "[tweet['user']['followers_count'] for tweet in tweet_list][:5] "
   ]
  },
  {
   "cell_type": "code",
   "execution_count": 21,
   "id": "7bcdb8d1-959e-4a00-a8ac-3933e65ebf83",
   "metadata": {},
   "outputs": [
    {
     "data": {
      "text/plain": [
       "[12, 12, 12, 12, 12]"
      ]
     },
     "execution_count": 21,
     "metadata": {},
     "output_type": "execute_result"
    }
   ],
   "source": [
    "#friends count\n",
    "[tweet['user']['friends_count'] for tweet in tweet_list][:5]"
   ]
  },
  {
   "cell_type": "code",
   "execution_count": 27,
   "id": "f58f6245-cfc9-42c0-91b5-ffc826daf61e",
   "metadata": {},
   "outputs": [
    {
     "data": {
      "text/plain": [
       "[342, 342, 342, 342, 342, 342]"
      ]
     },
     "execution_count": 27,
     "metadata": {},
     "output_type": "execute_result"
    }
   ],
   "source": [
    "#favorites count\n",
    "[tweet['user']['favourites_count'] for tweet in tweet_list][1000:1006]"
   ]
  },
  {
   "cell_type": "code",
   "execution_count": 23,
   "id": "f662bbbe-0c8c-42fc-ac66-3f3582b35117",
   "metadata": {},
   "outputs": [
    {
     "data": {
      "text/plain": [
       "[355, 505, 4, 332, 386]"
      ]
     },
     "execution_count": 23,
     "metadata": {},
     "output_type": "execute_result"
    }
   ],
   "source": [
    "#retweet count\n",
    "[tweet['retweet_count'] for tweet in tweet_list][:5]"
   ]
  },
  {
   "cell_type": "code",
   "execution_count": 24,
   "id": "24555f12-42d3-4c9b-9015-b1dd62992176",
   "metadata": {},
   "outputs": [],
   "source": [
    " def find_location()->list:\n",
    "    location_list=[]\n",
    "    for tweet in tweet_list:\n",
    "        try:\n",
    "             location = tweet_list['user']['location']            \n",
    "        except TypeError:\n",
    "            location = 'None' \n",
    "        location_list.append(location)\n",
    "    return location_list\n"
   ]
  },
  {
   "cell_type": "code",
   "execution_count": 25,
   "id": "8842f1ad-97aa-48e1-8d3e-5b11a280b62c",
   "metadata": {},
   "outputs": [
    {
     "data": {
      "text/plain": [
       "['None', 'None', 'None', 'None', 'None']"
      ]
     },
     "execution_count": 25,
     "metadata": {},
     "output_type": "execute_result"
    }
   ],
   "source": [
    "find_location()[:5]"
   ]
  },
  {
   "cell_type": "code",
   "execution_count": 11,
   "id": "95499444-f1fe-4d86-bb06-aa99c8a328a3",
   "metadata": {},
   "outputs": [
    {
     "data": {
      "text/plain": [
       "['<a href=\"http://twitter.com/download/android\" rel=\"nofollow\">Twitter for Android</a>',\n",
       " '<a href=\"http://twitter.com/download/android\" rel=\"nofollow\">Twitter for Android</a>',\n",
       " '<a href=\"http://twitter.com/download/android\" rel=\"nofollow\">Twitter for Android</a>',\n",
       " '<a href=\"http://twitter.com/download/android\" rel=\"nofollow\">Twitter for Android</a>',\n",
       " '<a href=\"http://twitter.com/download/android\" rel=\"nofollow\">Twitter for Android</a>']"
      ]
     },
     "execution_count": 11,
     "metadata": {},
     "output_type": "execute_result"
    }
   ],
   "source": [
    "#find source\n",
    "[tweet['source'] for tweet in tweet_list][:5]"
   ]
  },
  {
   "cell_type": "code",
   "execution_count": 12,
   "id": "79213726-129a-4c82-a97c-bdb8c42faf2d",
   "metadata": {},
   "outputs": [
    {
     "name": "stderr",
     "output_type": "stream",
     "text": [
      "............\n",
      "----------------------------------------------------------------------\n",
      "Ran 12 tests in 0.021s\n",
      "\n",
      "OK\n"
     ]
    }
   ],
   "source": [
    "%run tests/test_extract_dataframe.py"
   ]
  },
  {
   "cell_type": "code",
   "execution_count": null,
   "id": "4ec5ae5e-2944-485f-92ea-3b017fa95bde",
   "metadata": {},
   "outputs": [],
   "source": []
  }
 ],
 "metadata": {
  "kernelspec": {
   "display_name": "Twitter Analysis Kernel",
   "language": "python",
   "name": "tweepy"
  },
  "language_info": {
   "codemirror_mode": {
    "name": "ipython",
    "version": 3
   },
   "file_extension": ".py",
   "mimetype": "text/x-python",
   "name": "python",
   "nbconvert_exporter": "python",
   "pygments_lexer": "ipython3",
   "version": "3.9.12"
  }
 },
 "nbformat": 4,
 "nbformat_minor": 5
}
